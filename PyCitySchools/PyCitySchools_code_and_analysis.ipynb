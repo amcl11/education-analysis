{
 "cells": [
  {
   "cell_type": "code",
   "execution_count": 539,
   "metadata": {},
   "outputs": [
    {
     "data": {
      "text/html": [
       "<div>\n",
       "<style scoped>\n",
       "    .dataframe tbody tr th:only-of-type {\n",
       "        vertical-align: middle;\n",
       "    }\n",
       "\n",
       "    .dataframe tbody tr th {\n",
       "        vertical-align: top;\n",
       "    }\n",
       "\n",
       "    .dataframe thead th {\n",
       "        text-align: right;\n",
       "    }\n",
       "</style>\n",
       "<table border=\"1\" class=\"dataframe\">\n",
       "  <thead>\n",
       "    <tr style=\"text-align: right;\">\n",
       "      <th></th>\n",
       "      <th>Student ID</th>\n",
       "      <th>student_name</th>\n",
       "      <th>gender</th>\n",
       "      <th>year</th>\n",
       "      <th>school_name</th>\n",
       "      <th>reading_score</th>\n",
       "      <th>maths_score</th>\n",
       "      <th>School ID</th>\n",
       "      <th>type</th>\n",
       "      <th>size</th>\n",
       "      <th>budget</th>\n",
       "    </tr>\n",
       "  </thead>\n",
       "  <tbody>\n",
       "    <tr>\n",
       "      <th>0</th>\n",
       "      <td>0</td>\n",
       "      <td>Paul Bradley</td>\n",
       "      <td>M</td>\n",
       "      <td>9</td>\n",
       "      <td>Huang High School</td>\n",
       "      <td>96</td>\n",
       "      <td>94</td>\n",
       "      <td>0</td>\n",
       "      <td>Government</td>\n",
       "      <td>2917</td>\n",
       "      <td>1910635</td>\n",
       "    </tr>\n",
       "    <tr>\n",
       "      <th>1</th>\n",
       "      <td>1</td>\n",
       "      <td>Victor Smith</td>\n",
       "      <td>M</td>\n",
       "      <td>12</td>\n",
       "      <td>Huang High School</td>\n",
       "      <td>90</td>\n",
       "      <td>43</td>\n",
       "      <td>0</td>\n",
       "      <td>Government</td>\n",
       "      <td>2917</td>\n",
       "      <td>1910635</td>\n",
       "    </tr>\n",
       "    <tr>\n",
       "      <th>2</th>\n",
       "      <td>2</td>\n",
       "      <td>Kevin Rodriguez</td>\n",
       "      <td>M</td>\n",
       "      <td>12</td>\n",
       "      <td>Huang High School</td>\n",
       "      <td>41</td>\n",
       "      <td>76</td>\n",
       "      <td>0</td>\n",
       "      <td>Government</td>\n",
       "      <td>2917</td>\n",
       "      <td>1910635</td>\n",
       "    </tr>\n",
       "    <tr>\n",
       "      <th>3</th>\n",
       "      <td>3</td>\n",
       "      <td>Richard Scott</td>\n",
       "      <td>M</td>\n",
       "      <td>12</td>\n",
       "      <td>Huang High School</td>\n",
       "      <td>89</td>\n",
       "      <td>86</td>\n",
       "      <td>0</td>\n",
       "      <td>Government</td>\n",
       "      <td>2917</td>\n",
       "      <td>1910635</td>\n",
       "    </tr>\n",
       "    <tr>\n",
       "      <th>4</th>\n",
       "      <td>4</td>\n",
       "      <td>Bonnie Ray</td>\n",
       "      <td>F</td>\n",
       "      <td>9</td>\n",
       "      <td>Huang High School</td>\n",
       "      <td>87</td>\n",
       "      <td>69</td>\n",
       "      <td>0</td>\n",
       "      <td>Government</td>\n",
       "      <td>2917</td>\n",
       "      <td>1910635</td>\n",
       "    </tr>\n",
       "  </tbody>\n",
       "</table>\n",
       "</div>"
      ],
      "text/plain": [
       "   Student ID     student_name gender  year        school_name  reading_score  \\\n",
       "0           0     Paul Bradley      M     9  Huang High School             96   \n",
       "1           1     Victor Smith      M    12  Huang High School             90   \n",
       "2           2  Kevin Rodriguez      M    12  Huang High School             41   \n",
       "3           3    Richard Scott      M    12  Huang High School             89   \n",
       "4           4       Bonnie Ray      F     9  Huang High School             87   \n",
       "\n",
       "   maths_score  School ID        type  size   budget  \n",
       "0           94          0  Government  2917  1910635  \n",
       "1           43          0  Government  2917  1910635  \n",
       "2           76          0  Government  2917  1910635  \n",
       "3           86          0  Government  2917  1910635  \n",
       "4           69          0  Government  2917  1910635  "
      ]
     },
     "execution_count": 539,
     "metadata": {},
     "output_type": "execute_result"
    }
   ],
   "source": [
    "# Dependencies and Setup\n",
    "import pandas as pd\n",
    "from pathlib import Path\n",
    "\n",
    "# Files to load\n",
    "school_data_to_load = Path(\"Resources/schools_complete.csv\")\n",
    "student_data_to_load = Path(\"Resources/students_complete.csv\")\n",
    "\n",
    "# Read School and Student Data File and store into Pandas DataFrames\n",
    "school_data = pd.read_csv(school_data_to_load)\n",
    "student_data = pd.read_csv(student_data_to_load)\n",
    "\n",
    "# Combine the data into a single dataset.  \n",
    "school_data_complete = pd.merge(student_data, school_data, how=\"left\", on=[\"school_name\", \"school_name\"])\n",
    "\n",
    "school_data_complete.head()"
   ]
  },
  {
   "cell_type": "markdown",
   "metadata": {},
   "source": [
    "## Local Government Area Summary\n",
    "\n",
    "* Calculate the total number of schools\n",
    "\n",
    "* Calculate the total number of students\n",
    "\n",
    "* Calculate the total budget\n",
    "\n",
    "* Calculate the average maths score \n",
    "\n",
    "* Calculate the average reading score\n",
    "\n",
    "* Calculate the percentage of students with a passing maths score (50 or greater)\n",
    "\n",
    "* Calculate the percentage of students with a passing reading score (50 or greater)\n",
    "\n",
    "* Calculate the percentage of students who passed maths **and** reading (% Overall Passing)\n",
    "\n",
    "* Create a dataframe to hold the above results\n",
    "\n",
    "* Optional: give the displayed data cleaner formatting"
   ]
  },
  {
   "cell_type": "code",
   "execution_count": 540,
   "metadata": {},
   "outputs": [
    {
     "name": "stdout",
     "output_type": "stream",
     "text": [
      "Total number of schools: 15\n"
     ]
    }
   ],
   "source": [
    "#Calculate the total number of schools\n",
    "total_no_schools = school_data_complete['school_name'].nunique()\n",
    "\n",
    "print(f'Total number of schools: {total_no_schools}')"
   ]
  },
  {
   "cell_type": "code",
   "execution_count": 541,
   "metadata": {},
   "outputs": [
    {
     "name": "stdout",
     "output_type": "stream",
     "text": [
      "Total number of students: 39,170\n"
     ]
    }
   ],
   "source": [
    "#Calculate the total number of students\n",
    "total_students = school_data_complete['Student ID'].nunique()\n",
    "\n",
    "print(f'Total number of students: {total_students:,}')"
   ]
  },
  {
   "cell_type": "code",
   "execution_count": 542,
   "metadata": {},
   "outputs": [
    {
     "name": "stdout",
     "output_type": "stream",
     "text": [
      "Total budget across all schools: $24,649,428.00\n"
     ]
    }
   ],
   "source": [
    "#Calculate the total budget\n",
    "total_budget = school_data_complete['budget'].unique().sum()\n",
    "\n",
    "print(f'Total budget across all schools: ${total_budget:,.2f}')"
   ]
  },
  {
   "cell_type": "code",
   "execution_count": 543,
   "metadata": {},
   "outputs": [
    {
     "name": "stdout",
     "output_type": "stream",
     "text": [
      "The average maths score across all students = 70.34\n"
     ]
    }
   ],
   "source": [
    "#Calculate mean maths score\n",
    "mean_math_score = school_data_complete['maths_score'].mean()\n",
    "\n",
    "print(f'The average maths score across all students = {mean_math_score:.2f}')"
   ]
  },
  {
   "cell_type": "code",
   "execution_count": 544,
   "metadata": {},
   "outputs": [
    {
     "name": "stdout",
     "output_type": "stream",
     "text": [
      "The average reading score across all students = 69.98\n"
     ]
    }
   ],
   "source": [
    "#Calculate mean reading score\n",
    "mean_reading_score = school_data_complete['reading_score'].mean()\n",
    "\n",
    "print(f'The average reading score across all students = {mean_reading_score:.2f}')"
   ]
  },
  {
   "cell_type": "code",
   "execution_count": 545,
   "metadata": {},
   "outputs": [
    {
     "name": "stdout",
     "output_type": "stream",
     "text": [
      "Percentage of students with a passing math score: 86.08%\n"
     ]
    }
   ],
   "source": [
    "#Calculate the percentage of students with a passing maths score (50 or greater)\n",
    "\n",
    "#find the number of pass marks\n",
    "pass_math_df = school_data_complete['maths_score'] >= 50\n",
    "\n",
    "pass_math_df.sum()\n",
    "\n",
    "#percentage of students with a passing maths score (50 or greater)\n",
    "pass_math_percent_df = pass_math_df.sum() / school_data_complete['Student ID'].nunique() * 100\n",
    "\n",
    "print(\"Percentage of students with a passing math score: {:.2f}%\".format(pass_math_percent_df))\n"
   ]
  },
  {
   "cell_type": "code",
   "execution_count": 546,
   "metadata": {},
   "outputs": [
    {
     "name": "stdout",
     "output_type": "stream",
     "text": [
      "Percentage of students with a passing reading score: 84.43%\n"
     ]
    }
   ],
   "source": [
    "#Calculate the percentage of students with a passing reading score (50 or greater)\n",
    "\n",
    "#find the number of pass marks\n",
    "pass_reading_df = school_data_complete['reading_score'] >= 50\n",
    "\n",
    "pass_reading_df.sum()\n",
    "\n",
    "#percentage of students with a passing reading score (50 or greater)\n",
    "pass_reading_percent_df = pass_reading_df.sum() / school_data_complete['Student ID'].nunique() * 100\n",
    "\n",
    "print(\"Percentage of students with a passing reading score: {:.2f}%\".format(pass_reading_percent_df))"
   ]
  },
  {
   "cell_type": "code",
   "execution_count": 547,
   "metadata": {},
   "outputs": [
    {
     "name": "stdout",
     "output_type": "stream",
     "text": [
      "Percentage of students who passed both Math & Reading: 72.81%\n"
     ]
    }
   ],
   "source": [
    "# Calculate the percentage of students who passed math and reading (% Overall Passing)\n",
    "overall_pass_amount = ((school_data_complete['maths_score'] >= 50) & (school_data_complete['reading_score'] >= 50)).sum()\n",
    "\n",
    "pass_both_percent = overall_pass_amount / total_students * 100\n",
    "\n",
    "print(\"Percentage of students who passed both Math & Reading: {:.2f}%\".format(pass_both_percent))\n"
   ]
  },
  {
   "cell_type": "code",
   "execution_count": 548,
   "metadata": {},
   "outputs": [
    {
     "data": {
      "text/html": [
       "<div>\n",
       "<style scoped>\n",
       "    .dataframe tbody tr th:only-of-type {\n",
       "        vertical-align: middle;\n",
       "    }\n",
       "\n",
       "    .dataframe tbody tr th {\n",
       "        vertical-align: top;\n",
       "    }\n",
       "\n",
       "    .dataframe thead th {\n",
       "        text-align: right;\n",
       "    }\n",
       "</style>\n",
       "<table border=\"1\" class=\"dataframe\">\n",
       "  <thead>\n",
       "    <tr style=\"text-align: right;\">\n",
       "      <th></th>\n",
       "      <th>Total Schools</th>\n",
       "      <th>Total Students</th>\n",
       "      <th>Total Budget</th>\n",
       "      <th>Average Maths Score</th>\n",
       "      <th>Average Reading Score</th>\n",
       "      <th>% Passing Math</th>\n",
       "      <th>% Passing Reading</th>\n",
       "      <th>% Overall Passing</th>\n",
       "    </tr>\n",
       "  </thead>\n",
       "  <tbody>\n",
       "    <tr>\n",
       "      <th>0</th>\n",
       "      <td>15</td>\n",
       "      <td>39,170</td>\n",
       "      <td>$24,649,428</td>\n",
       "      <td>70.34</td>\n",
       "      <td>69.98</td>\n",
       "      <td>86.08%</td>\n",
       "      <td>84.43%</td>\n",
       "      <td>72.81%</td>\n",
       "    </tr>\n",
       "  </tbody>\n",
       "</table>\n",
       "</div>"
      ],
      "text/plain": [
       "   Total Schools Total Students Total Budget Average Maths Score  \\\n",
       "0             15         39,170  $24,649,428               70.34   \n",
       "\n",
       "  Average Reading Score % Passing Math % Passing Reading % Overall Passing  \n",
       "0                 69.98         86.08%            84.43%            72.81%  "
      ]
     },
     "execution_count": 548,
     "metadata": {},
     "output_type": "execute_result"
    }
   ],
   "source": [
    "#Create DF to hold the above summary \n",
    "area_summary = pd.DataFrame({\n",
    "    'Total Schools': total_no_schools,\n",
    "    'Total Students': [f'{total_students:,}'],\n",
    "    'Total Budget': [f'${total_budget:,}'],\n",
    "    'Average Maths Score': [f'{mean_math_score:.2f}'],\n",
    "    'Average Reading Score': [f'{mean_reading_score:.2f}'],\n",
    "    '% Passing Math': [f'{pass_math_percent_df:.2f}%'],\n",
    "    '% Passing Reading': [f'{pass_reading_percent_df:.2f}%'],\n",
    "    '% Overall Passing': [f'{pass_both_percent:.2f}%'],\n",
    "}, index=[0])\n",
    "\n",
    "area_summary\n"
   ]
  },
  {
   "cell_type": "markdown",
   "metadata": {},
   "source": [
    "## School Summary"
   ]
  },
  {
   "cell_type": "markdown",
   "metadata": {},
   "source": [
    "* Create an overview table that summarises key metrics about each school, including:\n",
    "  * School Name\n",
    "  * School Type\n",
    "  * Total Students\n",
    "  * Total School Budget\n",
    "  * Per Student Budget\n",
    "  * Average Maths Score\n",
    "  * Average Reading Score\n",
    "  * % Passing Maths\n",
    "  * % Passing Reading\n",
    "  * % Overall Passing (The percentage of students that passed maths **and** reading.)\n",
    "  \n",
    "* Create a dataframe to hold the above results"
   ]
  },
  {
   "cell_type": "code",
   "execution_count": 549,
   "metadata": {},
   "outputs": [],
   "source": [
    "# Group by school name\n",
    "school_name = school_data_complete.set_index('school_name').groupby(['school_name'])"
   ]
  },
  {
   "cell_type": "code",
   "execution_count": 550,
   "metadata": {},
   "outputs": [],
   "source": [
    "# school types by school name\n",
    "school_type = school_data.set_index('school_name')['type']"
   ]
  },
  {
   "cell_type": "code",
   "execution_count": 551,
   "metadata": {},
   "outputs": [],
   "source": [
    "#  Calculate total students\n",
    "total_students = school_data.set_index('school_name')['size']"
   ]
  },
  {
   "cell_type": "code",
   "execution_count": 552,
   "metadata": {},
   "outputs": [],
   "source": [
    "# Total school budget\n",
    "total_school_budget = school_data.set_index('school_name')['budget']"
   ]
  },
  {
   "cell_type": "code",
   "execution_count": 553,
   "metadata": {},
   "outputs": [],
   "source": [
    "# per student budget\n",
    "budget_per_student = (school_data.set_index('school_name')['budget']/school_data.set_index('school_name')['size'])\n"
   ]
  },
  {
   "cell_type": "code",
   "execution_count": 554,
   "metadata": {},
   "outputs": [],
   "source": [
    "# Average Math Score\n",
    "average_math_score = school_name['maths_score'].mean()"
   ]
  },
  {
   "cell_type": "code",
   "execution_count": 555,
   "metadata": {},
   "outputs": [],
   "source": [
    "# Average Reading Score\n",
    "average_reading_score = school_name['reading_score'].mean()"
   ]
  },
  {
   "cell_type": "code",
   "execution_count": 556,
   "metadata": {},
   "outputs": [],
   "source": [
    "pass_math_percent = (school_data_complete[school_data_complete['maths_score'] >= 50] \\\n",
    "                     .groupby('school_name')['Student ID'].count() \\\n",
    "                     / total_student * 100)\n"
   ]
  },
  {
   "cell_type": "code",
   "execution_count": 557,
   "metadata": {},
   "outputs": [],
   "source": [
    "# % Passing Reading\n",
    "\n",
    "pass_reading_percent = school_data_complete[school_data_complete['reading_score'] >= 50] \\\n",
    "                    .groupby('school_name')['Student ID'].count() \\\n",
    "                    /total_students*100"
   ]
  },
  {
   "cell_type": "code",
   "execution_count": 558,
   "metadata": {},
   "outputs": [],
   "source": [
    "# % Overall Passing (The percentage of students that passed math and reading.\n",
    "\n",
    "overall_pass = school_data_complete[(school_data_complete['reading_score'] >= 50) & (school_data_complete['maths_score'] >= 50)].groupby('school_name')['Student ID'].count()/total_students*100\n"
   ]
  },
  {
   "cell_type": "code",
   "execution_count": 559,
   "metadata": {},
   "outputs": [
    {
     "data": {
      "text/html": [
       "<div>\n",
       "<style scoped>\n",
       "    .dataframe tbody tr th:only-of-type {\n",
       "        vertical-align: middle;\n",
       "    }\n",
       "\n",
       "    .dataframe tbody tr th {\n",
       "        vertical-align: top;\n",
       "    }\n",
       "\n",
       "    .dataframe thead th {\n",
       "        text-align: right;\n",
       "    }\n",
       "</style>\n",
       "<table border=\"1\" class=\"dataframe\">\n",
       "  <thead>\n",
       "    <tr style=\"text-align: right;\">\n",
       "      <th></th>\n",
       "      <th>School Type</th>\n",
       "      <th>Total Students</th>\n",
       "      <th>Total School Budget</th>\n",
       "      <th>Per Student Budget</th>\n",
       "      <th>Average Maths Score</th>\n",
       "      <th>Average Reading Score</th>\n",
       "      <th>% Passing Maths</th>\n",
       "      <th>% Passing Reading</th>\n",
       "      <th>% Overall Passing</th>\n",
       "    </tr>\n",
       "  </thead>\n",
       "  <tbody>\n",
       "    <tr>\n",
       "      <th>Bailey High School</th>\n",
       "      <td>Government</td>\n",
       "      <td>4976</td>\n",
       "      <td>$3,124,928.00</td>\n",
       "      <td>$628.00</td>\n",
       "      <td>72.352894</td>\n",
       "      <td>71.008842</td>\n",
       "      <td>91.639871</td>\n",
       "      <td>87.379421</td>\n",
       "      <td>80.084405</td>\n",
       "    </tr>\n",
       "    <tr>\n",
       "      <th>Cabrera High School</th>\n",
       "      <td>Independent</td>\n",
       "      <td>1858</td>\n",
       "      <td>$1,081,356.00</td>\n",
       "      <td>$582.00</td>\n",
       "      <td>71.657158</td>\n",
       "      <td>71.359526</td>\n",
       "      <td>90.850377</td>\n",
       "      <td>89.074273</td>\n",
       "      <td>80.785791</td>\n",
       "    </tr>\n",
       "    <tr>\n",
       "      <th>Figueroa High School</th>\n",
       "      <td>Government</td>\n",
       "      <td>2949</td>\n",
       "      <td>$1,884,411.00</td>\n",
       "      <td>$639.00</td>\n",
       "      <td>68.698542</td>\n",
       "      <td>69.077993</td>\n",
       "      <td>81.654798</td>\n",
       "      <td>82.807731</td>\n",
       "      <td>67.650051</td>\n",
       "    </tr>\n",
       "    <tr>\n",
       "      <th>Ford High School</th>\n",
       "      <td>Government</td>\n",
       "      <td>2739</td>\n",
       "      <td>$1,763,916.00</td>\n",
       "      <td>$644.00</td>\n",
       "      <td>69.091274</td>\n",
       "      <td>69.572472</td>\n",
       "      <td>82.438846</td>\n",
       "      <td>82.219788</td>\n",
       "      <td>67.469880</td>\n",
       "    </tr>\n",
       "    <tr>\n",
       "      <th>Griffin High School</th>\n",
       "      <td>Independent</td>\n",
       "      <td>1468</td>\n",
       "      <td>$917,500.00</td>\n",
       "      <td>$625.00</td>\n",
       "      <td>71.788147</td>\n",
       "      <td>71.245232</td>\n",
       "      <td>91.212534</td>\n",
       "      <td>88.487738</td>\n",
       "      <td>81.335150</td>\n",
       "    </tr>\n",
       "    <tr>\n",
       "      <th>Hernandez High School</th>\n",
       "      <td>Government</td>\n",
       "      <td>4635</td>\n",
       "      <td>$3,022,020.00</td>\n",
       "      <td>$652.00</td>\n",
       "      <td>68.874865</td>\n",
       "      <td>69.186408</td>\n",
       "      <td>80.949299</td>\n",
       "      <td>81.877023</td>\n",
       "      <td>66.364617</td>\n",
       "    </tr>\n",
       "    <tr>\n",
       "      <th>Holden High School</th>\n",
       "      <td>Independent</td>\n",
       "      <td>427</td>\n",
       "      <td>$248,087.00</td>\n",
       "      <td>$581.00</td>\n",
       "      <td>72.583138</td>\n",
       "      <td>71.660422</td>\n",
       "      <td>89.929742</td>\n",
       "      <td>88.524590</td>\n",
       "      <td>78.922717</td>\n",
       "    </tr>\n",
       "    <tr>\n",
       "      <th>Huang High School</th>\n",
       "      <td>Government</td>\n",
       "      <td>2917</td>\n",
       "      <td>$1,910,635.00</td>\n",
       "      <td>$655.00</td>\n",
       "      <td>68.935207</td>\n",
       "      <td>68.910525</td>\n",
       "      <td>81.693521</td>\n",
       "      <td>81.453548</td>\n",
       "      <td>66.712376</td>\n",
       "    </tr>\n",
       "    <tr>\n",
       "      <th>Johnson High School</th>\n",
       "      <td>Government</td>\n",
       "      <td>4761</td>\n",
       "      <td>$3,094,650.00</td>\n",
       "      <td>$650.00</td>\n",
       "      <td>68.843100</td>\n",
       "      <td>69.039277</td>\n",
       "      <td>82.062592</td>\n",
       "      <td>81.978576</td>\n",
       "      <td>67.191766</td>\n",
       "    </tr>\n",
       "    <tr>\n",
       "      <th>Pena High School</th>\n",
       "      <td>Independent</td>\n",
       "      <td>962</td>\n",
       "      <td>$585,858.00</td>\n",
       "      <td>$609.00</td>\n",
       "      <td>72.088358</td>\n",
       "      <td>71.613306</td>\n",
       "      <td>91.683992</td>\n",
       "      <td>86.590437</td>\n",
       "      <td>79.209979</td>\n",
       "    </tr>\n",
       "    <tr>\n",
       "      <th>Rodriguez High School</th>\n",
       "      <td>Government</td>\n",
       "      <td>3999</td>\n",
       "      <td>$2,547,363.00</td>\n",
       "      <td>$637.00</td>\n",
       "      <td>72.047762</td>\n",
       "      <td>70.935984</td>\n",
       "      <td>90.797699</td>\n",
       "      <td>87.396849</td>\n",
       "      <td>79.419855</td>\n",
       "    </tr>\n",
       "    <tr>\n",
       "      <th>Shelton High School</th>\n",
       "      <td>Independent</td>\n",
       "      <td>1761</td>\n",
       "      <td>$1,056,600.00</td>\n",
       "      <td>$600.00</td>\n",
       "      <td>72.034072</td>\n",
       "      <td>70.257808</td>\n",
       "      <td>91.538898</td>\n",
       "      <td>86.712095</td>\n",
       "      <td>78.875639</td>\n",
       "    </tr>\n",
       "    <tr>\n",
       "      <th>Thomas High School</th>\n",
       "      <td>Independent</td>\n",
       "      <td>1635</td>\n",
       "      <td>$1,043,130.00</td>\n",
       "      <td>$638.00</td>\n",
       "      <td>69.581651</td>\n",
       "      <td>69.768807</td>\n",
       "      <td>83.853211</td>\n",
       "      <td>82.629969</td>\n",
       "      <td>69.480122</td>\n",
       "    </tr>\n",
       "    <tr>\n",
       "      <th>Wilson High School</th>\n",
       "      <td>Independent</td>\n",
       "      <td>2283</td>\n",
       "      <td>$1,319,574.00</td>\n",
       "      <td>$578.00</td>\n",
       "      <td>69.170828</td>\n",
       "      <td>68.876916</td>\n",
       "      <td>82.785808</td>\n",
       "      <td>81.296540</td>\n",
       "      <td>67.455103</td>\n",
       "    </tr>\n",
       "    <tr>\n",
       "      <th>Wright High School</th>\n",
       "      <td>Independent</td>\n",
       "      <td>1800</td>\n",
       "      <td>$1,049,400.00</td>\n",
       "      <td>$583.00</td>\n",
       "      <td>72.047222</td>\n",
       "      <td>70.969444</td>\n",
       "      <td>91.777778</td>\n",
       "      <td>86.666667</td>\n",
       "      <td>79.722222</td>\n",
       "    </tr>\n",
       "  </tbody>\n",
       "</table>\n",
       "</div>"
      ],
      "text/plain": [
       "                       School Type  Total Students Total School Budget  \\\n",
       "Bailey High School      Government            4976       $3,124,928.00   \n",
       "Cabrera High School    Independent            1858       $1,081,356.00   \n",
       "Figueroa High School    Government            2949       $1,884,411.00   \n",
       "Ford High School        Government            2739       $1,763,916.00   \n",
       "Griffin High School    Independent            1468         $917,500.00   \n",
       "Hernandez High School   Government            4635       $3,022,020.00   \n",
       "Holden High School     Independent             427         $248,087.00   \n",
       "Huang High School       Government            2917       $1,910,635.00   \n",
       "Johnson High School     Government            4761       $3,094,650.00   \n",
       "Pena High School       Independent             962         $585,858.00   \n",
       "Rodriguez High School   Government            3999       $2,547,363.00   \n",
       "Shelton High School    Independent            1761       $1,056,600.00   \n",
       "Thomas High School     Independent            1635       $1,043,130.00   \n",
       "Wilson High School     Independent            2283       $1,319,574.00   \n",
       "Wright High School     Independent            1800       $1,049,400.00   \n",
       "\n",
       "                      Per Student Budget  Average Maths Score  \\\n",
       "Bailey High School               $628.00            72.352894   \n",
       "Cabrera High School              $582.00            71.657158   \n",
       "Figueroa High School             $639.00            68.698542   \n",
       "Ford High School                 $644.00            69.091274   \n",
       "Griffin High School              $625.00            71.788147   \n",
       "Hernandez High School            $652.00            68.874865   \n",
       "Holden High School               $581.00            72.583138   \n",
       "Huang High School                $655.00            68.935207   \n",
       "Johnson High School              $650.00            68.843100   \n",
       "Pena High School                 $609.00            72.088358   \n",
       "Rodriguez High School            $637.00            72.047762   \n",
       "Shelton High School              $600.00            72.034072   \n",
       "Thomas High School               $638.00            69.581651   \n",
       "Wilson High School               $578.00            69.170828   \n",
       "Wright High School               $583.00            72.047222   \n",
       "\n",
       "                       Average Reading Score  % Passing Maths  \\\n",
       "Bailey High School                 71.008842        91.639871   \n",
       "Cabrera High School                71.359526        90.850377   \n",
       "Figueroa High School               69.077993        81.654798   \n",
       "Ford High School                   69.572472        82.438846   \n",
       "Griffin High School                71.245232        91.212534   \n",
       "Hernandez High School              69.186408        80.949299   \n",
       "Holden High School                 71.660422        89.929742   \n",
       "Huang High School                  68.910525        81.693521   \n",
       "Johnson High School                69.039277        82.062592   \n",
       "Pena High School                   71.613306        91.683992   \n",
       "Rodriguez High School              70.935984        90.797699   \n",
       "Shelton High School                70.257808        91.538898   \n",
       "Thomas High School                 69.768807        83.853211   \n",
       "Wilson High School                 68.876916        82.785808   \n",
       "Wright High School                 70.969444        91.777778   \n",
       "\n",
       "                       % Passing Reading  % Overall Passing  \n",
       "Bailey High School             87.379421          80.084405  \n",
       "Cabrera High School            89.074273          80.785791  \n",
       "Figueroa High School           82.807731          67.650051  \n",
       "Ford High School               82.219788          67.469880  \n",
       "Griffin High School            88.487738          81.335150  \n",
       "Hernandez High School          81.877023          66.364617  \n",
       "Holden High School             88.524590          78.922717  \n",
       "Huang High School              81.453548          66.712376  \n",
       "Johnson High School            81.978576          67.191766  \n",
       "Pena High School               86.590437          79.209979  \n",
       "Rodriguez High School          87.396849          79.419855  \n",
       "Shelton High School            86.712095          78.875639  \n",
       "Thomas High School             82.629969          69.480122  \n",
       "Wilson High School             81.296540          67.455103  \n",
       "Wright High School             86.666667          79.722222  "
      ]
     },
     "execution_count": 559,
     "metadata": {},
     "output_type": "execute_result"
    }
   ],
   "source": [
    "#update formatting \n",
    "total_school_budget = total_school_budget.map(\"${:,.2f}\".format)\n",
    "budget_per_student = budget_per_student.map(\"${:,.2f}\".format)\n",
    "\n",
    "#create school_summary DataFrame\n",
    "school_summary = pd.DataFrame({\n",
    "    \"School Type\": school_type,\n",
    "    \"Total Students\": total_students,\n",
    "    \"Total School Budget\": total_school_budget,\n",
    "    \"Per Student Budget\": budget_per_student,\n",
    "    \"Average Maths Score\": average_math_score,\n",
    "    \"Average Reading Score\": average_reading_score,\n",
    "    \"% Passing Maths\": pass_math_percent,\n",
    "    \"% Passing Reading\": pass_reading_percent,\n",
    "    \"% Overall Passing\": overall_pass,\n",
    "})\n",
    "#Rename axis                         \n",
    "school_summary = school_summary.rename_axis(None)\n",
    "\n",
    "school_summary\n"
   ]
  },
  {
   "cell_type": "markdown",
   "metadata": {},
   "source": [
    "## Top Performing Schools (By % Overall Passing)"
   ]
  },
  {
   "cell_type": "markdown",
   "metadata": {},
   "source": [
    "* Sort and display the top five performing schools by % overall passing."
   ]
  },
  {
   "cell_type": "code",
   "execution_count": null,
   "metadata": {
    "scrolled": true
   },
   "outputs": [],
   "source": [
    "#sort School Summary DF by Overall Pass column and sort by highest to lowest, creating a Top Performing Schools DF\n",
    "top_performing_schools = school_summary.sort_values(\"% Overall Passing\", ascending=False).head(5)\n",
    "\n",
    "top_performing_schools"
   ]
  },
  {
   "cell_type": "markdown",
   "metadata": {},
   "source": [
    "## Bottom Performing Schools (By % Overall Passing)"
   ]
  },
  {
   "cell_type": "markdown",
   "metadata": {},
   "source": [
    "* Sort and display the five worst-performing schools by % overall passing."
   ]
  },
  {
   "cell_type": "code",
   "execution_count": null,
   "metadata": {},
   "outputs": [],
   "source": [
    "#sort School Summary DF by Overall Pass column and sort by lowest to hightest, creating a Bottom Performing Schools DF\n",
    "\n",
    "bottom_performing_schools = school_summary.sort_values(\"% Overall Passing\", ascending=True).head(5)\n",
    "\n",
    "bottom_performing_schools"
   ]
  },
  {
   "cell_type": "markdown",
   "metadata": {
    "collapsed": true
   },
   "source": [
    "## Maths Scores by Year"
   ]
  },
  {
   "cell_type": "markdown",
   "metadata": {},
   "source": [
    "* Create a table that lists the average maths score for students of each year level (9, 10, 11, 12) at each school.\n",
    "\n",
    "  * Create a pandas series for each year. Hint: use a conditional statement.\n",
    "  \n",
    "  * Group each series by school\n",
    "  \n",
    "  * Combine the series into a dataframe\n",
    "  \n",
    "  * Optional: give the displayed data cleaner formatting"
   ]
  },
  {
   "cell_type": "code",
   "execution_count": null,
   "metadata": {},
   "outputs": [],
   "source": [
    "#create variables to store maths scores by Year. \n",
    "#Use location / loc to then group the relevant data and find the mean\n",
    "\n",
    "year_9_math = student_data.loc[student_data['year'] == 9].groupby('school_name')[\"maths_score\"].mean()\n",
    "year_10_math = student_data.loc[student_data['year'] == 10].groupby('school_name')[\"maths_score\"].mean()\n",
    "year_11_math = student_data.loc[student_data['year'] == 11].groupby('school_name')[\"maths_score\"].mean()\n",
    "year_12_math = student_data.loc[student_data['year'] == 12].groupby('school_name')[\"maths_score\"].mean()\n",
    "\n",
    "#create new DataFrame to show results\n",
    "mean_maths_scores = pd.DataFrame({\n",
    "    \"Year 9\": year_9_math,\n",
    "    \"Year 10\": year_10_math,\n",
    "    \"Year 11\": year_11_math,\n",
    "    \"Year 12\": year_12_math,\n",
    "})\n",
    "\n",
    "#rename axis\n",
    "mean_maths_scores = mean_maths_scores.rename_axis(None)\n",
    "\n",
    "mean_maths_scores"
   ]
  },
  {
   "cell_type": "markdown",
   "metadata": {},
   "source": [
    "## Reading Score by Year"
   ]
  },
  {
   "cell_type": "markdown",
   "metadata": {},
   "source": [
    "* Perform the same operations as above for reading scores"
   ]
  },
  {
   "cell_type": "code",
   "execution_count": null,
   "metadata": {},
   "outputs": [],
   "source": [
    "#create variables to store reading scores by Year. \n",
    "#Use location / loc to then group the relevant data and find the mean\n",
    "\n",
    "year_9_reading = student_data.loc[student_data['year'] == 9].groupby('school_name')[\"reading_score\"].mean()\n",
    "year_10_reading = student_data.loc[student_data['year'] == 10].groupby('school_name')[\"reading_score\"].mean()\n",
    "year_11_reading = student_data.loc[student_data['year'] == 11].groupby('school_name')[\"reading_score\"].mean()\n",
    "year_12_reading = student_data.loc[student_data['year'] == 12].groupby('school_name')[\"reading_score\"].mean()\n",
    "\n",
    "#create new DataFrame to show results\n",
    "mean_reading_scores = pd.DataFrame({\n",
    "    \"Year 9\": year_9_reading,\n",
    "    \"Year 10\": year_10_reading,\n",
    "    \"Year 11\": year_11_reading,\n",
    "    \"Year 12\": year_12_reading,\n",
    "})\n",
    "#rename axis\n",
    "mean_reading_scores = mean_reading_scores.rename_axis(None)\n",
    "\n",
    "mean_reading_scores"
   ]
  },
  {
   "cell_type": "markdown",
   "metadata": {},
   "source": [
    "## Scores by School Spending"
   ]
  },
  {
   "cell_type": "markdown",
   "metadata": {},
   "source": [
    "* Create a table that breaks down school performances based on average Spending Ranges (Per Student). Use 4 reasonable bins to group school spending. Include in the table each of the following:\n",
    "  * Average Maths Score\n",
    "  * Average Reading Score\n",
    "  * % Passing Maths\n",
    "  * % Passing Reading\n",
    "  * Overall Passing Rate (Average of the above two)"
   ]
  },
  {
   "cell_type": "code",
   "execution_count": null,
   "metadata": {},
   "outputs": [],
   "source": [
    "#convert 'Per Student Budget' column to numeric values\n",
    "school_summary['Per Student Budget'] = school_summary['Per Student Budget'].replace('[\\$,]', '', regex=True).astype(float)\n",
    "\n",
    "#create spending bins \n",
    "spending_bins = [0, 585, 630, 645, 680]\n",
    "labels = [\"<$585\", \"$585-630\", \"$630-645\", \"$645-680\"]\n",
    "\n",
    "#categorise spending based on bins\n",
    "school_summary[\"Spending Ranges (Per Student)\"] = pd.cut(school_summary[\"Per Student Budget\"], bins=spending_bins, labels=labels)\n",
    "\n",
    "# Group by spending ranges\n",
    "school_spending_df = school_summary.groupby(\"Spending Ranges (Per Student)\")\n",
    "\n",
    "# Calculate mean scores per spending range\n",
    "spending_math_scores = school_spending_df[\"Average Maths Score\"].mean().round(2)\n",
    "spending_reading_scores = school_spending_df[\"Average Reading Score\"].mean().round(2)\n",
    "spending_passing_math = school_spending_df[\"% Passing Maths\"].mean().round(2)\n",
    "spending_passing_reading = school_spending_df[\"% Passing Reading\"].mean().round(2)\n",
    "overall_passing_spending = school_spending_df[\"% Overall Passing\"].mean().round(2)\n",
    "\n",
    "# Create the spending_summary DataFrame\n",
    "spending_summary = pd.DataFrame({\n",
    "    \"Average Maths Score\": spending_math_scores,\n",
    "    \"Average Reading Score\": spending_reading_scores,\n",
    "    \"% Passing Maths\": spending_passing_math,\n",
    "    \"% Passing Reading\": spending_passing_reading,\n",
    "    \"% Overall Passing\": overall_passing_spending\n",
    "})\n",
    "\n",
    "spending_summary.index.name = \"Spending Ranges (Per Student)\"\n",
    "\n",
    "spending_summary\n",
    "\n"
   ]
  },
  {
   "cell_type": "markdown",
   "metadata": {},
   "source": [
    "## Scores by School Size"
   ]
  },
  {
   "cell_type": "markdown",
   "metadata": {},
   "source": [
    "* Perform the same operations as above, based on school size."
   ]
  },
  {
   "cell_type": "code",
   "execution_count": null,
   "metadata": {
    "scrolled": true
   },
   "outputs": [],
   "source": [
    "#create per school summary df\n",
    "per_school_summary = school_summary\n",
    "\n",
    "size_bins = [0, 1000, 2000, 5000]\n",
    "labels = [\"Small (<1000)\", \"Medium (1000-2000)\", \"Large (2000-5000)\"]\n",
    "\n",
    "#categorise school sizes based on bins\n",
    "per_school_summary[\"School Size\"] = pd.cut(per_school_summary[\"Total Students\"], bins=size_bins, labels=labels)\n",
    "\n",
    "# Group by size ranges\n",
    "size_summary = per_school_summary.groupby(\"School Size\")\n",
    "\n",
    "# Calculate mean scores per spending range\n",
    "size_math_scores = size_summary[\"Average Maths Score\"].mean().round(2)\n",
    "size_reading_scores = size_summary[\"Average Reading Score\"].mean().round(2)\n",
    "size_passing_math = size_summary[\"% Passing Maths\"].mean().round(2)\n",
    "size_passing_reading = size_summary[\"% Passing Reading\"].mean().round(2)\n",
    "overall_passing_size = size_summary[\"% Overall Passing\"].mean().round(2)\n",
    "\n",
    "# Create the size_summary DataFrame\n",
    "size_summary = pd.DataFrame({\n",
    "    \"Average Maths Score\": size_math_scores,\n",
    "    \"Average Reading Score\": size_reading_scores,\n",
    "    \"% Passing Maths\": size_passing_math,\n",
    "    \"% Passing Reading\": size_passing_reading,\n",
    "    \"% Overall Passing\": overall_passing_size\n",
    "})\n",
    "\n",
    "size_summary.index.name = \"School Size\"\n",
    "\n",
    "size_summary"
   ]
  },
  {
   "cell_type": "markdown",
   "metadata": {},
   "source": [
    "## Scores by School Type"
   ]
  },
  {
   "cell_type": "markdown",
   "metadata": {},
   "source": [
    "* Perform the same operations as above, based on school type"
   ]
  },
  {
   "cell_type": "code",
   "execution_count": null,
   "metadata": {},
   "outputs": [],
   "source": [
    "# Create Type Summary DF from previous Per School Summary DF\n",
    "type_summary = per_school_summary.copy()\n",
    "\n",
    "# Group by school type\n",
    "type_summary = type_summary.groupby(\"School Type\")\n",
    "\n",
    "# Calculate mean scores per school type\n",
    "type_math_scores = type_summary[\"Average Maths Score\"].mean().round(2)\n",
    "type_reading_scores = type_summary[\"Average Reading Score\"].mean().round(2)\n",
    "type_passing_math = type_summary[\"% Passing Maths\"].mean().round(2)\n",
    "type_passing_reading = type_summary[\"% Passing Reading\"].mean().round(2)\n",
    "overall_passing_type = type_summary[\"% Overall Passing\"].mean().round(2)\n",
    "\n",
    "# Create the type_summary DataFrame\n",
    "type_summary = pd.DataFrame({\n",
    "    \"Average Maths Score\": type_math_scores,\n",
    "    \"Average Reading Score\": type_reading_scores,\n",
    "    \"% Passing Maths\": type_passing_math,\n",
    "    \"% Passing Reading\": type_passing_reading,\n",
    "    \"% Overall Passing\": overall_passing_type\n",
    "})\n",
    "\n",
    "type_summary.index.name = \"School Type\"\n",
    "\n",
    "type_summary"
   ]
  },
  {
   "cell_type": "markdown",
   "metadata": {},
   "source": [
    "# Written Report\n",
    "\n",
    "*Task: Help the school board and Mayor make strategic decisions regarding future school budgets and priorities.*\n",
    "\n",
    "**Analysis Summary:**\n",
    "\n",
    "As an overalll summary, across the entire Local Government Area we can see that the overall percent of students passing Maths, Reading, and both are as follows: \n",
    "\n",
    "**Percentage of students passing Maths:** 86.08% <br>\n",
    "**Percentage of students passing Reading:** 84.43% <br>\n",
    "**Percentage of students passing both Maths & Reading:** 72.81% <br>\n",
    "\n",
    "**Top/Bottom performing schools:** \n",
    "Looking at both the top 5 and bottom 5 performing schools, there doesn't seem to be a conclusive indication that the *School Type, Total School Budget,* or *Per Student Budget* have a significant impact on student results. \n",
    "The most interesting element looking at the top and bottom 5 schools relates to the *Total Students* count. While not major, it does appear to show a slight advantage to schools with less students. \n",
    "\n",
    "Across the top/bottom 5 performing schools, there's a variance of 3,234 students which on average is around 646 more students per school across the bottom 5 schools, potentially indicating more students = lower performing school. More analysis would be required to make a conclusion here. \n",
    "\n",
    "**Scores By School Spending / Budget Per Student**\n",
    "This section doesn't look to have any clear correlation on Student Results. There's an even spread of results across spending, and budget per student.\n",
    "\n",
    "**Looking at the Scores By School Size**\n",
    "This section further points to my Top/Bottom performing schools analysis above, indicating that smaller sized schools tend to perform better. There's a clear heirachy with the smallest sized schools achieving the best results, then the middle sized schools acheiving the middle range results, and the largest schools acheiving the lowest results. \n",
    "\n",
    "**Looking at the Scores By School Type**\n",
    "We see that the Independent school category has higher results in every category compared to the Government school scores. Indicating that students that attend an Independent school seem to have a higher chance of recieving higher marks. \n",
    "\n",
    "**Conclusion**\n",
    "To conclude, the best category of school based on results within the above analysis would be a small sized (ie number of students) independent school. In regards to budget strategies, it doesn't seem effective to spend more money within established schools, but instead use budget for new schools which would reduce overall volume of students across all schools and potentially improve results. \n"
   ]
  }
 ],
 "metadata": {
  "anaconda-cloud": {},
  "kernel_info": {
   "name": "python3"
  },
  "kernelspec": {
   "display_name": "Python 3 (ipykernel)",
   "language": "python",
   "name": "python3"
  },
  "language_info": {
   "codemirror_mode": {
    "name": "ipython",
    "version": 3
   },
   "file_extension": ".py",
   "mimetype": "text/x-python",
   "name": "python",
   "nbconvert_exporter": "python",
   "pygments_lexer": "ipython3",
   "version": "3.10.11"
  },
  "latex_envs": {
   "LaTeX_envs_menu_present": true,
   "autoclose": false,
   "autocomplete": true,
   "bibliofile": "biblio.bib",
   "cite_by": "apalike",
   "current_citInitial": 1,
   "eqLabelWithNumbers": true,
   "eqNumInitial": 1,
   "hotkeys": {
    "equation": "Ctrl-E",
    "itemize": "Ctrl-I"
   },
   "labels_anchors": false,
   "latex_user_defs": false,
   "report_style_numbering": false,
   "user_envs_cfg": false
  },
  "nteract": {
   "version": "0.8.4"
  }
 },
 "nbformat": 4,
 "nbformat_minor": 1
}
